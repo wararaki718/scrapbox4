{
 "cells": [
  {
   "cell_type": "code",
   "execution_count": 1,
   "source": [
    "from gensim.test.utils import common_corpus, common_dictionary\n",
    "from gensim.models.ldamodel import LdaModel\n",
    "from gensim.models.coherencemodel import CoherenceModel"
   ],
   "outputs": [],
   "metadata": {}
  },
  {
   "cell_type": "code",
   "execution_count": 15,
   "source": [
    "for num_topics in range(3, 20):\n",
    "    model = LdaModel(corpus=common_corpus, num_topics=num_topics, id2word=common_dictionary)\n",
    "    cm = CoherenceModel(model=model, corpus=common_corpus, coherence=\"u_mass\")\n",
    "    coherence = cm.get_coherence()\n",
    "    print(f\"{num_topics} topics: {coherence}\")"
   ],
   "outputs": [
    {
     "output_type": "stream",
     "name": "stdout",
     "text": [
      "3 topics: -14.668722608200346\n",
      "4 topics: -14.667698706412192\n",
      "5 topics: -14.6879719618176\n",
      "6 topics: -14.683057233234472\n",
      "7 topics: -14.687445383755122\n",
      "8 topics: -14.691504422986725\n",
      "9 topics: -14.688518042771282\n",
      "10 topics: -14.691043667182058\n",
      "11 topics: -14.69478556280785\n",
      "12 topics: -14.696879907374523\n",
      "13 topics: -14.694398914580155\n",
      "14 topics: -14.697099314900553\n",
      "15 topics: -14.703535268997513\n",
      "16 topics: -14.69611198103341\n",
      "17 topics: -14.68739375845488\n",
      "18 topics: -14.695685355288346\n",
      "19 topics: -14.659130265132397\n"
     ]
    }
   ],
   "metadata": {}
  },
  {
   "cell_type": "code",
   "execution_count": null,
   "source": [],
   "outputs": [],
   "metadata": {}
  }
 ],
 "metadata": {
  "orig_nbformat": 4,
  "language_info": {
   "name": "python",
   "version": "3.8.5",
   "mimetype": "text/x-python",
   "codemirror_mode": {
    "name": "ipython",
    "version": 3
   },
   "pygments_lexer": "ipython3",
   "nbconvert_exporter": "python",
   "file_extension": ".py"
  },
  "kernelspec": {
   "name": "python3",
   "display_name": "Python 3.8.5 64-bit ('3.8.5': pyenv)"
  },
  "interpreter": {
   "hash": "72f9a84a8224ff9822e151d11f7230a84b9042f77e6225ea14b4f1e71494c010"
  }
 },
 "nbformat": 4,
 "nbformat_minor": 2
}