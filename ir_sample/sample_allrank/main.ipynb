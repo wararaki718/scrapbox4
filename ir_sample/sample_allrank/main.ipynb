{
 "cells": [
  {
   "cell_type": "code",
   "execution_count": 1,
   "metadata": {},
   "outputs": [],
   "source": [
    "%load_ext autoreload\n",
    "%autoreload 2"
   ]
  },
  {
   "cell_type": "code",
   "execution_count": 2,
   "metadata": {},
   "outputs": [],
   "source": [
    "from data import generate_dummies"
   ]
  },
  {
   "cell_type": "code",
   "execution_count": 3,
   "metadata": {},
   "outputs": [],
   "source": [
    "X_train, y_train, qid_train = generate_dummies()\n",
    "X_valid, y_valid, qid_valid = generate_dummies()"
   ]
  },
  {
   "cell_type": "code",
   "execution_count": 5,
   "metadata": {},
   "outputs": [],
   "source": [
    "import os\n",
    "from sklearn.datasets import dump_svmlight_file\n",
    "\n",
    "os.makedirs(\"data\", exist_ok=True)\n",
    "\n",
    "dump_svmlight_file(X_train, y_train, \"data/train.txt\", query_id=qid_train)\n",
    "dump_svmlight_file(X_valid, y_valid, \"data/valid.txt\", query_id=qid_valid)"
   ]
  },
  {
   "cell_type": "code",
   "execution_count": 9,
   "metadata": {},
   "outputs": [],
   "source": [
    "from allrank.data.dataset_loading import load_libsvm_dataset\n",
    "\n",
    "train, valid = load_libsvm_dataset(\n",
    "    input_path=\"data\",\n",
    "    slate_length=240,\n",
    "    validation_ds_role=\"valid\"\n",
    ")"
   ]
  },
  {
   "cell_type": "code",
   "execution_count": 10,
   "metadata": {},
   "outputs": [],
   "source": [
    "from allrank.data.dataset_loading import create_data_loaders\n",
    "\n",
    "train_loader, valid_loader = create_data_loaders(\n",
    "    train,\n",
    "    valid,\n",
    "    num_workers=1,\n",
    "    batch_size=64\n",
    ")"
   ]
  },
  {
   "cell_type": "code",
   "execution_count": 11,
   "metadata": {},
   "outputs": [
    {
     "name": "stdout",
     "output_type": "stream",
     "text": [
      "cpu\n"
     ]
    }
   ],
   "source": [
    "from allrank.models.model_utils import get_torch_device\n",
    "\n",
    "device = get_torch_device()\n",
    "print(device)"
   ]
  },
  {
   "cell_type": "code",
   "execution_count": 15,
   "metadata": {},
   "outputs": [
    {
     "data": {
      "text/plain": [
       "LTRModel(\n",
       "  (input_layer): FCModel(\n",
       "    (input_norm): Identity()\n",
       "    (activation): Identity()\n",
       "    (dropout): Dropout(p=0.0, inplace=False)\n",
       "    (layers): ModuleList(\n",
       "      (0): Linear(in_features=100, out_features=64, bias=True)\n",
       "    )\n",
       "  )\n",
       "  (encoder): Encoder(\n",
       "    (layers): ModuleList(\n",
       "      (0): EncoderLayer(\n",
       "        (self_attn): MultiHeadedAttention(\n",
       "          (linears): ModuleList(\n",
       "            (0): Linear(in_features=64, out_features=64, bias=True)\n",
       "            (1): Linear(in_features=64, out_features=64, bias=True)\n",
       "            (2): Linear(in_features=64, out_features=64, bias=True)\n",
       "            (3): Linear(in_features=64, out_features=64, bias=True)\n",
       "          )\n",
       "          (dropout): Dropout(p=0.0, inplace=False)\n",
       "        )\n",
       "        (feed_forward): PositionwiseFeedForward(\n",
       "          (w_1): Linear(in_features=64, out_features=64, bias=True)\n",
       "          (w_2): Linear(in_features=64, out_features=64, bias=True)\n",
       "          (dropout): Dropout(p=0.0, inplace=False)\n",
       "        )\n",
       "        (sublayer): ModuleList(\n",
       "          (0): SublayerConnection(\n",
       "            (norm): LayerNorm()\n",
       "            (dropout): Dropout(p=0.0, inplace=False)\n",
       "          )\n",
       "          (1): SublayerConnection(\n",
       "            (norm): LayerNorm()\n",
       "            (dropout): Dropout(p=0.0, inplace=False)\n",
       "          )\n",
       "        )\n",
       "      )\n",
       "    )\n",
       "    (norm): LayerNorm()\n",
       "  )\n",
       "  (output_layer): OutputLayer(\n",
       "    (activation): Sigmoid()\n",
       "    (w_1): Linear(in_features=64, out_features=4, bias=True)\n",
       "  )\n",
       ")"
      ]
     },
     "execution_count": 15,
     "metadata": {},
     "output_type": "execute_result"
    }
   ],
   "source": [
    "from allrank.models.model import FCModel, LTRModel, OutputLayer\n",
    "from allrank.models.transformer import make_transformer\n",
    "\n",
    "fc_model_config = {\n",
    "    \"sizes\": [64],\n",
    "    \"input_norm\": False,\n",
    "    \"activation\": None,\n",
    "    \"dropout\": 0.0\n",
    "}\n",
    "transformer_config = {\n",
    "    \"N\": 1,\n",
    "    \"d_ff\": 64,\n",
    "    \"h\": 1,\n",
    "    \"positional_encoding\": None,\n",
    "    \"dropout\": 0.0\n",
    "}\n",
    "\n",
    "post_model_config = {\n",
    "    \"output_activation\": \"Sigmoid\",\n",
    "    \"d_output\": 4\n",
    "}\n",
    "\n",
    "fc_model = FCModel(**fc_model_config, n_features=train.shape[0])\n",
    "transformer = make_transformer(n_features=fc_model.output_size, **transformer_config)\n",
    "model = LTRModel(fc_model, transformer, OutputLayer(fc_model.output_size, **post_model_config))\n",
    "\n",
    "model.to(device)"
   ]
  },
  {
   "cell_type": "code",
   "execution_count": 16,
   "metadata": {},
   "outputs": [],
   "source": [
    "import functools\n",
    "\n",
    "import torch.optim as optim\n",
    "from allrank.models.losses import ordinal\n",
    "\n",
    "optimizer = optim.Adam(params=model.parameters(), lr=0.001)\n",
    "criterion = functools.partial(ordinal, n=4)"
   ]
  },
  {
   "cell_type": "code",
   "execution_count": null,
   "metadata": {},
   "outputs": [],
   "source": [
    "import torch\n",
    "from allrank.training.train_utils import fit\n",
    "from allrank.utils.python_utils import dummy_context_mgr\n",
    "\n",
    "# with dummy_context_mgr():\n",
    "#     result = fit(\n",
    "#         model=model,\n",
    "#         loss_func=criterion,\n",
    "#         optimizer=optimizer,\n",
    "#         train_dl=train_loader,\n",
    "#         valid_dl=valid_loader,\n",
    "#     )"
   ]
  }
 ],
 "metadata": {
  "interpreter": {
   "hash": "d107a50fe049828e5706700ba5636e75caeb7d297fa9d76d681377c337d2391e"
  },
  "kernelspec": {
   "display_name": "Python 3.8.5 64-bit ('3.8.5': pyenv)",
   "language": "python",
   "name": "python3"
  },
  "language_info": {
   "codemirror_mode": {
    "name": "ipython",
    "version": 3
   },
   "file_extension": ".py",
   "mimetype": "text/x-python",
   "name": "python",
   "nbconvert_exporter": "python",
   "pygments_lexer": "ipython3",
   "version": "3.8.5"
  },
  "orig_nbformat": 4
 },
 "nbformat": 4,
 "nbformat_minor": 2
}
