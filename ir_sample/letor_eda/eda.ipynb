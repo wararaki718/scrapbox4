{
 "cells": [
  {
   "cell_type": "code",
   "execution_count": 3,
   "metadata": {},
   "outputs": [],
   "source": [
    "from collections import Counter\n",
    "import pandas as pd"
   ]
  },
  {
   "cell_type": "code",
   "execution_count": 5,
   "metadata": {},
   "outputs": [],
   "source": [
    "column_names = {\n",
    "    \"qid\": \"qid\",\n",
    "    \"1\": \"tf_of_body\",\n",
    "    \"2\": \"tf_of_anchor\",\n",
    "    \"3\": \"tf_of_title\",\n",
    "    \"4\": \"tf_of_url\",\n",
    "    \"5\": \"tf_of_whole_document\",\n",
    "    \"6\": \"idf_of_body\",\n",
    "    \"7\": \"idf_of_anchor\",\n",
    "    \"8\": \"idf_of_title\",\n",
    "    \"9\": \"idf_of_url\",\n",
    "    \"10\": \"idf_of_whole_document\",\n",
    "    \"11\": \"tfidf_of_body\",\n",
    "    \"12\": \"tfidf_of_anchor\",\n",
    "    \"13\": \"tfidf_of_title\",\n",
    "    \"14\": \"tfidf_of_url\",\n",
    "    \"15\": \"tfidf_of_whole_document\",\n",
    "    \"16\": \"dl_of_body\",\n",
    "    \"17\": \"dl_of_anchor\",\n",
    "    \"18\": \"dl_of_title\",\n",
    "    \"19\": \"dl_of_url\",\n",
    "    \"20\": \"dl_of_whole_document\",\n",
    "    \"21\": \"bm25_of_body\",\n",
    "    \"22\": \"bm25_of_anchor\",\n",
    "    \"23\": \"bm25_of_title\",\n",
    "    \"24\": \"bm25_of_url\",\n",
    "    \"25\": \"bm25_of_whole_document\",\n",
    "    \"26\": \"lmir_abs_of_body\",\n",
    "    \"27\": \"lmir_abs_of_anchor\",\n",
    "    \"28\": \"lmir_abs_of_title\",\n",
    "    \"29\": \"lmir_abs_of_url\",\n",
    "    \"30\": \"lmir_abs_of_whole_document\",\n",
    "    \"31\": \"lmir_dir_of_body\",\n",
    "    \"32\": \"lmir_dir_of_anchor\",\n",
    "    \"33\": \"lmir_dir_of_title\",\n",
    "    \"34\": \"lmir_dir_of_url\",\n",
    "    \"35\": \"lmir_dir_of_whole_document\",\n",
    "    \"36\": \"lmir_jm_of_body\",\n",
    "    \"37\": \"lmir_jm_of_anchor\",\n",
    "    \"38\": \"lmir_jm_of_title\",\n",
    "    \"39\": \"lmir_jm_of_url\",\n",
    "    \"40\": \"lmir_jm_of_whole_document\",\n",
    "    \"41\": \"page_rank\",\n",
    "    \"42\": \"inlink_number\",\n",
    "    \"43\": \"outlink_number\",\n",
    "    \"44\": \"number_of_slash_in_url\",\n",
    "    \"45\": \"length_of_url\",\n",
    "    \"46\": \"number_of_child_page\"\n",
    "}"
   ]
  },
  {
   "cell_type": "code",
   "execution_count": 20,
   "metadata": {},
   "outputs": [],
   "source": [
    "def parse_feature(data: str) -> dict:\n",
    "    items = data.split(\"#\")\n",
    "    key_values = items[0].strip().split()\n",
    "\n",
    "    feature = dict()\n",
    "    for key_value in key_values[1:]:\n",
    "        key, value = key_value.split(\":\")\n",
    "        feature[column_names[key]] = float(value)\n",
    "    feature[\"qid\"] = int(feature[\"qid\"])\n",
    "    feature[\"label\"] = int(key_values[0])\n",
    "    feature[\"label_norm\"] = int(feature[\"label\"] > 0)\n",
    "\n",
    "    params = items[1].strip().replace(\" = \", \"=\").split()\n",
    "    for param in params:\n",
    "        key, value = param.split(\"=\")\n",
    "        if key == \"docid\":\n",
    "            feature[key] = value\n",
    "        else:\n",
    "            feature[key] = float(value)\n",
    "    \n",
    "    return feature"
   ]
  },
  {
   "cell_type": "code",
   "execution_count": 21,
   "metadata": {},
   "outputs": [],
   "source": [
    "def load_data(filename: str) -> pd.DataFrame:\n",
    "    features = []\n",
    "    with open(filename) as f:\n",
    "        for line in f:\n",
    "            feature = parse_feature(line)\n",
    "            features.append(feature)\n",
    "    \n",
    "    return pd.DataFrame(features)"
   ]
  },
  {
   "cell_type": "code",
   "execution_count": 22,
   "metadata": {},
   "outputs": [
    {
     "data": {
      "text/plain": [
       "(2933, 52)"
      ]
     },
     "execution_count": 22,
     "metadata": {},
     "output_type": "execute_result"
    }
   ],
   "source": [
    "filename = \"dataset/MQ2008/S1.txt\"\n",
    "df1 = load_data(filename)\n",
    "df1.shape"
   ]
  },
  {
   "cell_type": "code",
   "execution_count": 23,
   "metadata": {},
   "outputs": [
    {
     "data": {
      "text/html": [
       "<div>\n",
       "<style scoped>\n",
       "    .dataframe tbody tr th:only-of-type {\n",
       "        vertical-align: middle;\n",
       "    }\n",
       "\n",
       "    .dataframe tbody tr th {\n",
       "        vertical-align: top;\n",
       "    }\n",
       "\n",
       "    .dataframe thead th {\n",
       "        text-align: right;\n",
       "    }\n",
       "</style>\n",
       "<table border=\"1\" class=\"dataframe\">\n",
       "  <thead>\n",
       "    <tr style=\"text-align: right;\">\n",
       "      <th></th>\n",
       "      <th>qid</th>\n",
       "      <th>tf_of_body</th>\n",
       "      <th>tf_of_anchor</th>\n",
       "      <th>tf_of_title</th>\n",
       "      <th>tf_of_url</th>\n",
       "      <th>tf_of_whole_document</th>\n",
       "      <th>idf_of_body</th>\n",
       "      <th>idf_of_anchor</th>\n",
       "      <th>idf_of_title</th>\n",
       "      <th>idf_of_url</th>\n",
       "      <th>...</th>\n",
       "      <th>inlink_number</th>\n",
       "      <th>outlink_number</th>\n",
       "      <th>number_of_slash_in_url</th>\n",
       "      <th>length_of_url</th>\n",
       "      <th>number_of_child_page</th>\n",
       "      <th>label</th>\n",
       "      <th>label_norm</th>\n",
       "      <th>docid</th>\n",
       "      <th>inc</th>\n",
       "      <th>prob</th>\n",
       "    </tr>\n",
       "  </thead>\n",
       "  <tbody>\n",
       "    <tr>\n",
       "      <th>0</th>\n",
       "      <td>10002</td>\n",
       "      <td>0.007477</td>\n",
       "      <td>0.0</td>\n",
       "      <td>1.0</td>\n",
       "      <td>0.0</td>\n",
       "      <td>0.007470</td>\n",
       "      <td>0.0</td>\n",
       "      <td>0.0</td>\n",
       "      <td>0.0</td>\n",
       "      <td>0.0</td>\n",
       "      <td>...</td>\n",
       "      <td>0.00</td>\n",
       "      <td>0.0</td>\n",
       "      <td>0.000000</td>\n",
       "      <td>0.000000</td>\n",
       "      <td>0.007042</td>\n",
       "      <td>0</td>\n",
       "      <td>0</td>\n",
       "      <td>GX008-86-4444840</td>\n",
       "      <td>1.000000</td>\n",
       "      <td>0.086622</td>\n",
       "    </tr>\n",
       "    <tr>\n",
       "      <th>1</th>\n",
       "      <td>10002</td>\n",
       "      <td>0.603738</td>\n",
       "      <td>0.0</td>\n",
       "      <td>1.0</td>\n",
       "      <td>0.0</td>\n",
       "      <td>0.603175</td>\n",
       "      <td>0.0</td>\n",
       "      <td>0.0</td>\n",
       "      <td>0.0</td>\n",
       "      <td>0.0</td>\n",
       "      <td>...</td>\n",
       "      <td>0.28</td>\n",
       "      <td>0.0</td>\n",
       "      <td>0.003708</td>\n",
       "      <td>0.333333</td>\n",
       "      <td>1.000000</td>\n",
       "      <td>0</td>\n",
       "      <td>0</td>\n",
       "      <td>GX037-06-11625428</td>\n",
       "      <td>0.003159</td>\n",
       "      <td>0.089745</td>\n",
       "    </tr>\n",
       "    <tr>\n",
       "      <th>2</th>\n",
       "      <td>10002</td>\n",
       "      <td>0.214953</td>\n",
       "      <td>0.0</td>\n",
       "      <td>0.0</td>\n",
       "      <td>0.0</td>\n",
       "      <td>0.213819</td>\n",
       "      <td>0.0</td>\n",
       "      <td>0.0</td>\n",
       "      <td>0.0</td>\n",
       "      <td>0.0</td>\n",
       "      <td>...</td>\n",
       "      <td>0.00</td>\n",
       "      <td>0.0</td>\n",
       "      <td>1.000000</td>\n",
       "      <td>1.000000</td>\n",
       "      <td>0.021127</td>\n",
       "      <td>0</td>\n",
       "      <td>0</td>\n",
       "      <td>GX044-30-4142998</td>\n",
       "      <td>0.008419</td>\n",
       "      <td>0.099974</td>\n",
       "    </tr>\n",
       "  </tbody>\n",
       "</table>\n",
       "<p>3 rows × 52 columns</p>\n",
       "</div>"
      ],
      "text/plain": [
       "     qid  tf_of_body  tf_of_anchor  tf_of_title  tf_of_url  \\\n",
       "0  10002    0.007477           0.0          1.0        0.0   \n",
       "1  10002    0.603738           0.0          1.0        0.0   \n",
       "2  10002    0.214953           0.0          0.0        0.0   \n",
       "\n",
       "   tf_of_whole_document  idf_of_body  idf_of_anchor  idf_of_title  idf_of_url  \\\n",
       "0              0.007470          0.0            0.0           0.0         0.0   \n",
       "1              0.603175          0.0            0.0           0.0         0.0   \n",
       "2              0.213819          0.0            0.0           0.0         0.0   \n",
       "\n",
       "   ...  inlink_number  outlink_number  number_of_slash_in_url  length_of_url  \\\n",
       "0  ...           0.00             0.0                0.000000       0.000000   \n",
       "1  ...           0.28             0.0                0.003708       0.333333   \n",
       "2  ...           0.00             0.0                1.000000       1.000000   \n",
       "\n",
       "   number_of_child_page  label  label_norm              docid       inc  \\\n",
       "0              0.007042      0           0   GX008-86-4444840  1.000000   \n",
       "1              1.000000      0           0  GX037-06-11625428  0.003159   \n",
       "2              0.021127      0           0   GX044-30-4142998  0.008419   \n",
       "\n",
       "       prob  \n",
       "0  0.086622  \n",
       "1  0.089745  \n",
       "2  0.099974  \n",
       "\n",
       "[3 rows x 52 columns]"
      ]
     },
     "execution_count": 23,
     "metadata": {},
     "output_type": "execute_result"
    }
   ],
   "source": [
    "df1.head(3)"
   ]
  },
  {
   "cell_type": "code",
   "execution_count": 26,
   "metadata": {},
   "outputs": [
    {
     "data": {
      "text/plain": [
       "10078    118\n",
       "10419    118\n",
       "11893    118\n",
       "11759    118\n",
       "11565    114\n",
       "        ... \n",
       "11041      7\n",
       "11777      7\n",
       "11699      7\n",
       "11092      7\n",
       "11297      6\n",
       "Name: qid, Length: 157, dtype: int64"
      ]
     },
     "execution_count": 26,
     "metadata": {},
     "output_type": "execute_result"
    }
   ],
   "source": [
    "# qid ごとの impression 数を見る。\n",
    "df1.qid.value_counts()"
   ]
  },
  {
   "cell_type": "code",
   "execution_count": 27,
   "metadata": {},
   "outputs": [
    {
     "data": {
      "text/plain": [
       "0    2316\n",
       "1     427\n",
       "2     190\n",
       "Name: label, dtype: int64"
      ]
     },
     "execution_count": 27,
     "metadata": {},
     "output_type": "execute_result"
    }
   ],
   "source": [
    "df1.label.value_counts()"
   ]
  },
  {
   "cell_type": "code",
   "execution_count": 28,
   "metadata": {},
   "outputs": [
    {
     "data": {
      "text/plain": [
       "0    2316\n",
       "1     617\n",
       "Name: label_norm, dtype: int64"
      ]
     },
     "execution_count": 28,
     "metadata": {},
     "output_type": "execute_result"
    }
   ],
   "source": [
    "df1.label_norm.value_counts()"
   ]
  },
  {
   "cell_type": "code",
   "execution_count": 58,
   "metadata": {},
   "outputs": [
    {
     "data": {
      "text/plain": [
       "Counter({0: 52,\n",
       "         2: 21,\n",
       "         3: 13,\n",
       "         7: 5,\n",
       "         1: 25,\n",
       "         5: 11,\n",
       "         6: 3,\n",
       "         22: 2,\n",
       "         10: 1,\n",
       "         4: 10,\n",
       "         8: 3,\n",
       "         13: 1,\n",
       "         37: 1,\n",
       "         15: 1,\n",
       "         17: 1,\n",
       "         25: 1,\n",
       "         16: 1,\n",
       "         63: 1,\n",
       "         19: 1,\n",
       "         14: 1,\n",
       "         55: 1,\n",
       "         11: 1})"
      ]
     },
     "execution_count": 58,
     "metadata": {},
     "output_type": "execute_result"
    }
   ],
   "source": [
    "# interaction を含まない qid の確認\n",
    "Counter([df1[df1.qid == qid].label_norm.sum() for qid in df1.qid.unique()])"
   ]
  },
  {
   "cell_type": "markdown",
   "metadata": {},
   "source": [
    "- qid によって、impression 数が異なる。\n",
    "- interaction を含まない qid がある。"
   ]
  },
  {
   "cell_type": "code",
   "execution_count": 29,
   "metadata": {},
   "outputs": [
    {
     "data": {
      "text/plain": [
       "(3635, 52)"
      ]
     },
     "execution_count": 29,
     "metadata": {},
     "output_type": "execute_result"
    }
   ],
   "source": [
    "filename = \"dataset/MQ2008/S2.txt\"\n",
    "df2 = load_data(filename)\n",
    "df2.shape"
   ]
  },
  {
   "cell_type": "code",
   "execution_count": 31,
   "metadata": {},
   "outputs": [
    {
     "data": {
      "text/plain": [
       "(157,)"
      ]
     },
     "execution_count": 31,
     "metadata": {},
     "output_type": "execute_result"
    }
   ],
   "source": [
    "df2.qid.unique().shape"
   ]
  },
  {
   "cell_type": "code",
   "execution_count": 36,
   "metadata": {},
   "outputs": [
    {
     "data": {
      "text/plain": [
       "set()"
      ]
     },
     "execution_count": 36,
     "metadata": {},
     "output_type": "execute_result"
    }
   ],
   "source": [
    "set(df2.qid.unique()) & set(df1.qid.unique())"
   ]
  },
  {
   "cell_type": "code",
   "execution_count": 37,
   "metadata": {},
   "outputs": [
    {
     "data": {
      "text/plain": [
       "(3062, 52)"
      ]
     },
     "execution_count": 37,
     "metadata": {},
     "output_type": "execute_result"
    }
   ],
   "source": [
    "filename = \"dataset/MQ2008/S3.txt\"\n",
    "df3 = load_data(filename)\n",
    "df3.shape"
   ]
  },
  {
   "cell_type": "code",
   "execution_count": 38,
   "metadata": {},
   "outputs": [
    {
     "data": {
      "text/plain": [
       "(2707, 52)"
      ]
     },
     "execution_count": 38,
     "metadata": {},
     "output_type": "execute_result"
    }
   ],
   "source": [
    "filename = \"dataset/MQ2008/S4.txt\"\n",
    "df4 = load_data(filename)\n",
    "df4.shape"
   ]
  },
  {
   "cell_type": "code",
   "execution_count": 39,
   "metadata": {},
   "outputs": [
    {
     "data": {
      "text/plain": [
       "(2874, 52)"
      ]
     },
     "execution_count": 39,
     "metadata": {},
     "output_type": "execute_result"
    }
   ],
   "source": [
    "filename = \"dataset/MQ2008/S5.txt\"\n",
    "df5 = load_data(filename)\n",
    "df5.shape"
   ]
  },
  {
   "cell_type": "code",
   "execution_count": 41,
   "metadata": {},
   "outputs": [
    {
     "name": "stdout",
     "output_type": "stream",
     "text": [
      "df1 & df2 = 0\n",
      "df1 & df3 = 0\n",
      "df1 & df4 = 0\n",
      "df1 & df5 = 0\n",
      "df2 & df3 = 0\n",
      "df2 & df4 = 0\n",
      "df2 & df5 = 0\n",
      "df3 & df4 = 0\n",
      "df3 & df5 = 0\n",
      "df4 & df5 = 0\n"
     ]
    }
   ],
   "source": [
    "# 共通の qid を探す。\n",
    "dfs = [df1, df2, df3, df4, df5]\n",
    "for i, dfi in enumerate(dfs, start=1):\n",
    "    for j, dfj in enumerate(dfs, start=1):\n",
    "        if i >= j:\n",
    "            continue\n",
    "\n",
    "        result = set(dfi.qid.unique()) & set(dfj.qid.unique())\n",
    "        print(f\"df{i} & df{j} = {len(result)}\")"
   ]
  },
  {
   "cell_type": "code",
   "execution_count": 42,
   "metadata": {},
   "outputs": [
    {
     "name": "stdout",
     "output_type": "stream",
     "text": [
      "df1 & df2 = 67\n",
      "df1 & df3 = 80\n",
      "df1 & df4 = 67\n",
      "df1 & df5 = 79\n",
      "df2 & df3 = 72\n",
      "df2 & df4 = 86\n",
      "df2 & df5 = 85\n",
      "df3 & df4 = 64\n",
      "df3 & df5 = 54\n",
      "df4 & df5 = 81\n"
     ]
    }
   ],
   "source": [
    "# 共通の docid を探す。\n",
    "dfs = [df1, df2, df3, df4, df5]\n",
    "for i, dfi in enumerate(dfs, start=1):\n",
    "    for j, dfj in enumerate(dfs, start=1):\n",
    "        if i >= j:\n",
    "            continue\n",
    "\n",
    "        result = set(dfi.docid.unique()) & set(dfj.docid.unique())\n",
    "        print(f\"df{i} & df{j} = {len(result)}\")"
   ]
  },
  {
   "cell_type": "code",
   "execution_count": 44,
   "metadata": {},
   "outputs": [],
   "source": [
    "docid_counter = Counter(\n",
    "    df1.docid.tolist() + \n",
    "    df2.docid.tolist() +\n",
    "    df3.docid.tolist() +\n",
    "    df4.docid.tolist() +\n",
    "    df5.docid.tolist()\n",
    ")"
   ]
  },
  {
   "cell_type": "code",
   "execution_count": 47,
   "metadata": {},
   "outputs": [
    {
     "data": {
      "text/plain": [
       "[('GX000-00-0000000', 22),\n",
       " ('GX006-16-15305255', 14),\n",
       " ('GX255-30-4478761', 12),\n",
       " ('GX014-02-11418175', 8),\n",
       " ('GX009-85-4054530', 7),\n",
       " ('GX014-13-13676661', 7),\n",
       " ('GX000-12-12356259', 6),\n",
       " ('GX239-75-11286672', 6),\n",
       " ('GX238-27-15726674', 6),\n",
       " ('GX245-76-13660955', 6)]"
      ]
     },
     "execution_count": 47,
     "metadata": {},
     "output_type": "execute_result"
    }
   ],
   "source": [
    "docid_counter.most_common(10)"
   ]
  },
  {
   "cell_type": "code",
   "execution_count": 51,
   "metadata": {},
   "outputs": [
    {
     "data": {
      "text/plain": [
       "1     13812\n",
       "2       438\n",
       "3        82\n",
       "4        28\n",
       "5        13\n",
       "6         5\n",
       "7         2\n",
       "8         1\n",
       "12        1\n",
       "14        1\n",
       "22        1\n",
       "dtype: int64"
      ]
     },
     "execution_count": 51,
     "metadata": {},
     "output_type": "execute_result"
    }
   ],
   "source": [
    "# docid の出現回数のヒストグラム。ほとんどのドキュメントは１回しか出現しない。\n",
    "pd.Series(docid_counter.values()).value_counts()"
   ]
  },
  {
   "cell_type": "code",
   "execution_count": 52,
   "metadata": {},
   "outputs": [],
   "source": [
    "pos_docid_counter = Counter(\n",
    "    df1[df1.label_norm == 1].docid.tolist() + \n",
    "    df2[df2.label_norm == 1].docid.tolist() +\n",
    "    df3[df3.label_norm == 1].docid.tolist() +\n",
    "    df4[df4.label_norm == 1].docid.tolist() +\n",
    "    df5[df5.label_norm == 1].docid.tolist()\n",
    ")"
   ]
  },
  {
   "cell_type": "code",
   "execution_count": 54,
   "metadata": {},
   "outputs": [
    {
     "data": {
      "text/plain": [
       "[('GX027-80-5095264', 3),\n",
       " ('GX014-76-3025378', 3),\n",
       " ('GX001-40-13788000', 3),\n",
       " ('GX012-07-6597432', 2),\n",
       " ('GX264-55-16328787', 2),\n",
       " ('GX240-62-9832512', 2),\n",
       " ('GX244-70-15324710', 2),\n",
       " ('GX225-75-12296992', 2),\n",
       " ('GX270-81-2444961', 2),\n",
       " ('GX000-05-9058226', 2)]"
      ]
     },
     "execution_count": 54,
     "metadata": {},
     "output_type": "execute_result"
    }
   ],
   "source": [
    "pos_docid_counter.most_common(10)"
   ]
  },
  {
   "cell_type": "markdown",
   "metadata": {},
   "source": [
    "- ランキングに現れているドキュメントと実際に interaction が発生しているドキュメントに乖離がある。\n",
    "  - おそらく、クエリごとにクリックされるドキュメントの傾向が異なる。\n",
    "- test set, train set, validation set で共通のqidはない。同じ docid は現れる。"
   ]
  },
  {
   "cell_type": "markdown",
   "metadata": {},
   "source": [
    "その他\n",
    "- 評価スクリプトを見ると、predict（推定結果）をもとに label を並び替えて、label を集計している。\n",
    "  - impression に interaction が含まれない場合は、0 スコアになるので、全体的に高いスコアにはならないと思われる。。\n",
    "\n",
    "下の論文では、60-70%ぐらいの値が出ている。\n",
    "- https://www.ecmlpkdd2019.org/downloads/paper/400.pdf"
   ]
  },
  {
   "cell_type": "code",
   "execution_count": null,
   "metadata": {},
   "outputs": [],
   "source": []
  }
 ],
 "metadata": {
  "interpreter": {
   "hash": "a3cb06422c5e5e568dfcbabae8366a97e51436c74255e92eb95418ba0ce728d8"
  },
  "kernelspec": {
   "display_name": "Python 3.8.6 64-bit ('3.8.6': pyenv)",
   "name": "python3"
  },
  "language_info": {
   "codemirror_mode": {
    "name": "ipython",
    "version": 3
   },
   "file_extension": ".py",
   "mimetype": "text/x-python",
   "name": "python",
   "nbconvert_exporter": "python",
   "pygments_lexer": "ipython3",
   "version": "3.8.6"
  },
  "orig_nbformat": 4
 },
 "nbformat": 4,
 "nbformat_minor": 2
}
