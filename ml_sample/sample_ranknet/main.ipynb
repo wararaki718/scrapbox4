{
 "cells": [
  {
   "cell_type": "code",
   "execution_count": 1,
   "metadata": {},
   "outputs": [],
   "source": [
    "from typing import Tuple\n",
    "\n",
    "import numpy as np\n",
    "import torch\n",
    "import torch.nn as nn"
   ]
  },
  {
   "cell_type": "code",
   "execution_count": 2,
   "metadata": {},
   "outputs": [
    {
     "data": {
      "text/plain": [
       "True"
      ]
     },
     "execution_count": 2,
     "metadata": {},
     "output_type": "execute_result"
    }
   ],
   "source": [
    "torch.cuda.is_available()"
   ]
  },
  {
   "cell_type": "code",
   "execution_count": 3,
   "metadata": {},
   "outputs": [],
   "source": [
    "class RankNet(nn.Module):\n",
    "    def __init__(self, n_input: int, n_output: int=1, n_hidden: int=10) -> None:\n",
    "        super(RankNet, self).__init__()\n",
    "        self.linear1 = nn.Linear(n_input, n_hidden)\n",
    "        self.linear2 = nn.Linear(n_hidden, n_output)\n",
    "\n",
    "    def forward(self, x: torch.Tensor) -> torch.Tensor:\n",
    "        x = torch.sigmoid(self.linear1(x))\n",
    "        x = self.linear2(x)\n",
    "        return x"
   ]
  },
  {
   "cell_type": "code",
   "execution_count": 4,
   "metadata": {},
   "outputs": [],
   "source": [
    "def pairwise_loss(s_i: torch.Tensor, s_j: torch.Tensor, S_ij: int, sigma: float=1.0) -> float:\n",
    "    C = torch.log1p(torch.exp(-sigma * (s_i - s_j)))\n",
    "\n",
    "    if S_ij == -1:\n",
    "        C += sigma * (s_i - s_j)\n",
    "    elif S_ij == 0:\n",
    "        C += 0.5 * sigma * (s_i - s_j)\n",
    "    elif S_ij == 1:\n",
    "        pass\n",
    "    else:\n",
    "        raise ValueError\n",
    "    \n",
    "    return C\n"
   ]
  },
  {
   "cell_type": "code",
   "execution_count": 5,
   "metadata": {},
   "outputs": [],
   "source": [
    "def make_dataset(N_train: torch.Tensor, N_valid: torch.Tensor, D: int) -> Tuple[torch.Tensor, torch.Tensor, torch.Tensor, torch.Tensor]:\n",
    "    ws = torch.randn(D, 1)\n",
    "\n",
    "    X_train = torch.randn(N_train, D, requires_grad=True)\n",
    "    X_valid = torch.randn(N_valid, D, requires_grad=True)\n",
    "\n",
    "    ys_train_score = torch.mm(X_train, ws)\n",
    "    ys_valid_score = torch.mm(X_valid, ws)\n",
    "\n",
    "    bins = np.array([-2, -1, 0, 1])\n",
    "    ys_train_rel = torch.Tensor(\n",
    "        np.digitize(ys_train_score.clone().detach().numpy(), bins=bins)\n",
    "    )\n",
    "    ys_valid_rel = torch.Tensor(\n",
    "        np.digitize(ys_valid_score.clone().detach().numpy(), bins=bins)\n",
    "    )\n",
    "\n",
    "    return X_train.cuda(), X_valid.cuda(), ys_train_rel.cuda(), ys_valid_rel.cuda()"
   ]
  },
  {
   "cell_type": "code",
   "execution_count": 16,
   "metadata": {},
   "outputs": [],
   "source": [
    "def swapped_pairs(ys_pred: torch.Tensor, ys_target: torch.Tensor) -> torch.Tensor:\n",
    "    N = ys_target.shape[0]\n",
    "    swapped = 0\n",
    "\n",
    "    for i in range(N-1):\n",
    "        for j in range(i+1, N):\n",
    "            if ys_target[i] < ys_target[j]:\n",
    "                if ys_pred[i] > ys_pred[j]:\n",
    "                    swapped += 1\n",
    "            elif ys_target[i] > ys_target[j]:\n",
    "                if ys_pred[i] < ys_pred[j]:\n",
    "                    swapped += 1\n",
    "    \n",
    "    return swapped"
   ]
  },
  {
   "cell_type": "code",
   "execution_count": 17,
   "metadata": {},
   "outputs": [],
   "source": [
    "N_train = 500\n",
    "N_valid = 100\n",
    "\n",
    "D = 50\n",
    "epochs = 10\n",
    "batch_size = 16\n",
    "\n",
    "n_sampling_combs = 50"
   ]
  },
  {
   "cell_type": "code",
   "execution_count": 18,
   "metadata": {},
   "outputs": [],
   "source": [
    "X_train, X_valid, ys_train, ys_valid = make_dataset(N_train, N_valid, D)"
   ]
  },
  {
   "cell_type": "code",
   "execution_count": 19,
   "metadata": {},
   "outputs": [
    {
     "name": "stdout",
     "output_type": "stream",
     "text": [
      "torch.Size([500, 50])\n",
      "torch.Size([500, 1])\n",
      "torch.Size([100, 50])\n",
      "torch.Size([100, 1])\n"
     ]
    }
   ],
   "source": [
    "print(X_train.shape)\n",
    "print(ys_train.shape)\n",
    "print(X_valid.shape)\n",
    "print(ys_valid.shape)"
   ]
  },
  {
   "cell_type": "code",
   "execution_count": 20,
   "metadata": {},
   "outputs": [],
   "source": [
    "model = RankNet(D).cuda()\n",
    "optimizer = torch.optim.Adam(model.parameters())"
   ]
  },
  {
   "cell_type": "code",
   "execution_count": 21,
   "metadata": {},
   "outputs": [
    {
     "name": "stdout",
     "output_type": "stream",
     "text": [
      "epoch 001: 1199/4950\n",
      "epoch 002: 738/4950\n",
      "epoch 003: 508/4950\n",
      "epoch 004: 335/4950\n",
      "epoch 005: 257/4950\n",
      "epoch 006: 200/4950\n",
      "epoch 007: 173/4950\n",
      "epoch 008: 153/4950\n",
      "epoch 009: 136/4950\n",
      "epoch 010: 119/4950\n"
     ]
    }
   ],
   "source": [
    "for epoch in range(epochs):\n",
    "    indices = torch.randperm(N_train)\n",
    "\n",
    "    X_train = X_train[indices]\n",
    "    ys_train = ys_train[indices]\n",
    "\n",
    "    cur_batch = 0\n",
    "    for _ in range(N_train // batch_size):\n",
    "        X_batch = X_train[cur_batch: cur_batch+batch_size]\n",
    "        ys_batch = ys_train[cur_batch: cur_batch+batch_size]\n",
    "        cur_batch += batch_size\n",
    "\n",
    "        if len(X_batch) == 0:\n",
    "            continue\n",
    "\n",
    "        optimizer.zero_grad()\n",
    "        batch_loss = torch.zeros(1).cuda()\n",
    "\n",
    "        y_pred = model(X_batch)\n",
    "\n",
    "        for _ in range(n_sampling_combs):\n",
    "            i, j = np.random.choice(range(batch_size), 2)\n",
    "\n",
    "            s_i = y_pred[i]\n",
    "            s_j = y_pred[j]\n",
    "\n",
    "            if ys_batch[i] > ys_batch[j]:\n",
    "                S_ij = 1\n",
    "            elif ys_batch[i] == ys_batch[j]:\n",
    "                S_ij = 0\n",
    "            else:\n",
    "                S_ij = -1\n",
    "            \n",
    "            loss = pairwise_loss(s_i, s_j, S_ij)\n",
    "            batch_loss += loss\n",
    "\n",
    "        batch_loss.backward(retain_graph=True)\n",
    "        optimizer.step()\n",
    "\n",
    "    # validation\n",
    "    with torch.no_grad():\n",
    "        y_pred = model(X_valid)\n",
    "        valid_swapped_pairs = swapped_pairs(y_pred, ys_valid)\n",
    "        print(f\"epoch {epoch+1:03d}: {valid_swapped_pairs}/{N_valid * (N_valid-1)//2}\")"
   ]
  },
  {
   "cell_type": "code",
   "execution_count": null,
   "metadata": {},
   "outputs": [],
   "source": []
  },
  {
   "cell_type": "code",
   "execution_count": null,
   "metadata": {},
   "outputs": [],
   "source": []
  }
 ],
 "metadata": {
  "interpreter": {
   "hash": "a3cb06422c5e5e568dfcbabae8366a97e51436c74255e92eb95418ba0ce728d8"
  },
  "kernelspec": {
   "display_name": "Python 3.8.6 64-bit ('3.8.6': pyenv)",
   "name": "python3"
  },
  "language_info": {
   "codemirror_mode": {
    "name": "ipython",
    "version": 3
   },
   "file_extension": ".py",
   "mimetype": "text/x-python",
   "name": "python",
   "nbconvert_exporter": "python",
   "pygments_lexer": "ipython3",
   "version": "3.8.6"
  },
  "orig_nbformat": 4
 },
 "nbformat": 4,
 "nbformat_minor": 2
}
